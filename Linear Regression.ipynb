{
 "cells": [
  {
   "cell_type": "markdown",
   "metadata": {},
   "source": [
    "# Linear Regression"
   ]
  },
  {
   "cell_type": "markdown",
   "metadata": {},
   "source": [
    "Linear regression is a supervised learning technique used to describe and model the relationship between a scalar dependent variable Y and one or more independent/predictor variables X.\n",
    "\n",
    "In linear regression, we use a weighted linear combination of the predictor variables to describe the relationship between them and Y. \n",
    "\n",
    "The weights w, are found by selecting a combination that minimises the total error between observed value Y and the value anticipated based on the model.\n"
   ]
  },
  {
   "cell_type": "markdown",
   "metadata": {},
   "source": [
    "# Formulation"
   ]
  },
  {
   "cell_type": "markdown",
   "metadata": {},
   "source": [
    "Given a set of input data $\\ x\\in\\mathbb R^d $ and some output data $\\ y\\in\\mathbb R $, we seek to learn a function that can map $ f : \\mathbb R^d \\rightarrow \\mathbb R $ such that $ y \\approx f(x;w)$ for the data pair $(x,y)$.\n",
    "\n",
    "$f(x;w)$ is a regression function with free parameter $w$\n",
    "\n",
    "We can model the relationship between the length $d$ vector of regressor variables $x$ and $y$ as $$ y_i = f(x;w) = w_{i0}1 + w_{i1}x_1 + w_{i2}x_2+ ... + w_{id}x_d + \\epsilon_i = \\mathbf x_i^Tw + \\epsilon_i$$ where the error term $\\epsilon_i$ is a random variabe that adds noise to the linear relationship between the dependent variable and regressors. Notice also that the first term $w_0$ is multiplied by a constant term 1, we call this term the intercept.\n",
    "\n",
    "For a set of $n$ observations we can express the above using matrix notation as $ \\mathbf y = \\mathbf Xw + \\varepsilon$, where: \n",
    "\n",
    "$$  \\mathbf y = \\begin{matrix} \n",
    "y_1 \\\\ y_2 \\\\ \\vdots \\\\ y_n\n",
    "   \\end{matrix},\n",
    "$$\n",
    "\n",
    "and\n",
    "\n",
    "$$  \\mathbf x = \\begin{matrix} \n",
    "\\mathbf X_1^T \\\\ \\mathbf X_2^T \\\\ \\vdots \\\\ \\mathbf X_n^T\n",
    "   \\end{matrix} = \\begin{matrix} 1 & x_{11}^T & x_{12}^T & \\cdots & x_{1d}^T \\\\\n",
    "   1 & x_{21}^T & x_{22}^T & \\cdots & x_{2d}^T \\\\\n",
    "   \\vdots & \\vdots & \\vdots & \\cdots & \\vdots \\\\\n",
    "   1 & x_{n1}^T & x_{n2}^T & \\cdots & x_{nd}^T \\end{matrix},\n",
    "$$\n",
    "\n",
    "and\n",
    "\n",
    "$$  \\mathbf w = \\begin{matrix} \n",
    "w_0 \\\\ w_1 \\\\ \\vdots \\\\ w_d\n",
    "   \\end{matrix}, \\varepsilon = \\begin{matrix} \n",
    "\\varepsilon_1 \\\\ \\varepsilon_2 \\\\ \\vdots \\\\ \\varepsilon_n\n",
    "   \\end{matrix}\n",
    "$$\n",
    "\n",
    "Clearly, a good model is one that makes predictions as close to the actual observed data as possible. More formally  we should aim to find the parameter vector $w_{ls}$ that minimises the difference between our estimates $\\hat y = \\mathbf Xw  $ and actual observed values $y$, rather than minimising the absolute differences we seek to find the $w_{ls} = $ that minimises the squared difference between  $\\hat y$ the observed responses $y$.\n",
    "\n",
    "Our 'Least Squares' solution is therefore the vector $ \\mathbf w$ that minimises the following equation:\n",
    "\n",
    "$$ L = \\sum_i^{n}(y_i - x_i^Tw) = \\lvert\\lvert \\mathbf y - \\mathbf X^Tw \\rvert\\rvert ^2 =(\\mathbf y - \\mathbf X^Tw)^T(\\mathbf y - \\mathbf X^Tw) $$\n",
    "\n",
    "We can find $ \\mathbf w $ by setting:\n",
    "\n",
    "$$ \\nabla L = 2X^TXw - 2X^Ty = 0 $$\n",
    "\n",
    "and in doing so we find that $$ w_{LS} = (X^TX)^{-1}X^Ty$$\n",
    "\n",
    "\n",
    "We can now use our derived $w$ to make predictions on unseen data\n"
   ]
  },
  {
   "cell_type": "code",
   "execution_count": 1,
   "metadata": {
    "collapsed": true
   },
   "outputs": [],
   "source": [
    "# Code Example"
   ]
  },
  {
   "cell_type": "code",
   "execution_count": 27,
   "metadata": {
    "collapsed": true
   },
   "outputs": [],
   "source": [
    "%matplotlib inline\n",
    "import numpy as np\n",
    "import pandas as pd\n",
    "import matplotlib.pyplot as plt"
   ]
  },
  {
   "cell_type": "markdown",
   "metadata": {},
   "source": [
    "Using the method above let's try estimate a fefeature vector for some data and then use our estimates to make predictions on some unseen data.\n",
    "\n",
    "For this example we'll use the auto-mpg dataset from 1983. The data contains — as well as of other features — information about the fuel consumption of around 398 vehicles.\n",
    "\n",
    "Let's load the data into using pandas and inspect it"
   ]
  },
  {
   "cell_type": "code",
   "execution_count": 57,
   "metadata": {
    "collapsed": false
   },
   "outputs": [],
   "source": [
    "names = [\"mpg\",\"cylinders\",\"displacement\",\"horsepower\", \"weight\", \"acceleration\",\"model year\",\"origin\",\"name\"]\n",
    "\n",
    "df = pd.read_csv(\"auto-mpg.data\",header=None, sep='\\s+', names = names,converters={\"origin\":str})"
   ]
  },
  {
   "cell_type": "markdown",
   "metadata": {},
   "source": [
    "Let's inspect the data - checking the distribution of the features as well as seein hw they correlate with miles per gallon"
   ]
  },
  {
   "cell_type": "code",
   "execution_count": 72,
   "metadata": {
    "collapsed": false
   },
   "outputs": [
    {
     "data": {
      "text/html": [
       "<div>\n",
       "<table border=\"1\" class=\"dataframe\">\n",
       "  <thead>\n",
       "    <tr style=\"text-align: right;\">\n",
       "      <th></th>\n",
       "      <th>mpg</th>\n",
       "      <th>cylinders</th>\n",
       "      <th>displacement</th>\n",
       "      <th>horsepower</th>\n",
       "      <th>weight</th>\n",
       "      <th>acceleration</th>\n",
       "      <th>model year</th>\n",
       "      <th>origin</th>\n",
       "      <th>name</th>\n",
       "    </tr>\n",
       "  </thead>\n",
       "  <tbody>\n",
       "    <tr>\n",
       "      <th>count</th>\n",
       "      <td>392.000000</td>\n",
       "      <td>392.000000</td>\n",
       "      <td>392.000000</td>\n",
       "      <td>392.000000</td>\n",
       "      <td>392.000000</td>\n",
       "      <td>392.000000</td>\n",
       "      <td>392.000000</td>\n",
       "      <td>392</td>\n",
       "      <td>392</td>\n",
       "    </tr>\n",
       "    <tr>\n",
       "      <th>unique</th>\n",
       "      <td>NaN</td>\n",
       "      <td>NaN</td>\n",
       "      <td>NaN</td>\n",
       "      <td>NaN</td>\n",
       "      <td>NaN</td>\n",
       "      <td>NaN</td>\n",
       "      <td>NaN</td>\n",
       "      <td>3</td>\n",
       "      <td>301</td>\n",
       "    </tr>\n",
       "    <tr>\n",
       "      <th>top</th>\n",
       "      <td>NaN</td>\n",
       "      <td>NaN</td>\n",
       "      <td>NaN</td>\n",
       "      <td>NaN</td>\n",
       "      <td>NaN</td>\n",
       "      <td>NaN</td>\n",
       "      <td>NaN</td>\n",
       "      <td>1</td>\n",
       "      <td>ford pinto</td>\n",
       "    </tr>\n",
       "    <tr>\n",
       "      <th>freq</th>\n",
       "      <td>NaN</td>\n",
       "      <td>NaN</td>\n",
       "      <td>NaN</td>\n",
       "      <td>NaN</td>\n",
       "      <td>NaN</td>\n",
       "      <td>NaN</td>\n",
       "      <td>NaN</td>\n",
       "      <td>245</td>\n",
       "      <td>5</td>\n",
       "    </tr>\n",
       "    <tr>\n",
       "      <th>mean</th>\n",
       "      <td>23.445918</td>\n",
       "      <td>5.471939</td>\n",
       "      <td>194.411990</td>\n",
       "      <td>104.469388</td>\n",
       "      <td>2977.584184</td>\n",
       "      <td>15.541327</td>\n",
       "      <td>75.979592</td>\n",
       "      <td>NaN</td>\n",
       "      <td>NaN</td>\n",
       "    </tr>\n",
       "    <tr>\n",
       "      <th>std</th>\n",
       "      <td>7.805007</td>\n",
       "      <td>1.705783</td>\n",
       "      <td>104.644004</td>\n",
       "      <td>38.491160</td>\n",
       "      <td>849.402560</td>\n",
       "      <td>2.758864</td>\n",
       "      <td>3.683737</td>\n",
       "      <td>NaN</td>\n",
       "      <td>NaN</td>\n",
       "    </tr>\n",
       "    <tr>\n",
       "      <th>min</th>\n",
       "      <td>9.000000</td>\n",
       "      <td>3.000000</td>\n",
       "      <td>68.000000</td>\n",
       "      <td>46.000000</td>\n",
       "      <td>1613.000000</td>\n",
       "      <td>8.000000</td>\n",
       "      <td>70.000000</td>\n",
       "      <td>NaN</td>\n",
       "      <td>NaN</td>\n",
       "    </tr>\n",
       "    <tr>\n",
       "      <th>25%</th>\n",
       "      <td>17.000000</td>\n",
       "      <td>4.000000</td>\n",
       "      <td>105.000000</td>\n",
       "      <td>75.000000</td>\n",
       "      <td>2225.250000</td>\n",
       "      <td>13.775000</td>\n",
       "      <td>73.000000</td>\n",
       "      <td>NaN</td>\n",
       "      <td>NaN</td>\n",
       "    </tr>\n",
       "    <tr>\n",
       "      <th>50%</th>\n",
       "      <td>22.750000</td>\n",
       "      <td>4.000000</td>\n",
       "      <td>151.000000</td>\n",
       "      <td>93.500000</td>\n",
       "      <td>2803.500000</td>\n",
       "      <td>15.500000</td>\n",
       "      <td>76.000000</td>\n",
       "      <td>NaN</td>\n",
       "      <td>NaN</td>\n",
       "    </tr>\n",
       "    <tr>\n",
       "      <th>75%</th>\n",
       "      <td>29.000000</td>\n",
       "      <td>8.000000</td>\n",
       "      <td>275.750000</td>\n",
       "      <td>126.000000</td>\n",
       "      <td>3614.750000</td>\n",
       "      <td>17.025000</td>\n",
       "      <td>79.000000</td>\n",
       "      <td>NaN</td>\n",
       "      <td>NaN</td>\n",
       "    </tr>\n",
       "    <tr>\n",
       "      <th>max</th>\n",
       "      <td>46.600000</td>\n",
       "      <td>8.000000</td>\n",
       "      <td>455.000000</td>\n",
       "      <td>230.000000</td>\n",
       "      <td>5140.000000</td>\n",
       "      <td>24.800000</td>\n",
       "      <td>82.000000</td>\n",
       "      <td>NaN</td>\n",
       "      <td>NaN</td>\n",
       "    </tr>\n",
       "  </tbody>\n",
       "</table>\n",
       "</div>"
      ],
      "text/plain": [
       "               mpg   cylinders  displacement  horsepower       weight  \\\n",
       "count   392.000000  392.000000    392.000000  392.000000   392.000000   \n",
       "unique         NaN         NaN           NaN         NaN          NaN   \n",
       "top            NaN         NaN           NaN         NaN          NaN   \n",
       "freq           NaN         NaN           NaN         NaN          NaN   \n",
       "mean     23.445918    5.471939    194.411990  104.469388  2977.584184   \n",
       "std       7.805007    1.705783    104.644004   38.491160   849.402560   \n",
       "min       9.000000    3.000000     68.000000   46.000000  1613.000000   \n",
       "25%      17.000000    4.000000    105.000000   75.000000  2225.250000   \n",
       "50%      22.750000    4.000000    151.000000   93.500000  2803.500000   \n",
       "75%      29.000000    8.000000    275.750000  126.000000  3614.750000   \n",
       "max      46.600000    8.000000    455.000000  230.000000  5140.000000   \n",
       "\n",
       "        acceleration  model year origin        name  \n",
       "count     392.000000  392.000000    392         392  \n",
       "unique           NaN         NaN      3         301  \n",
       "top              NaN         NaN      1  ford pinto  \n",
       "freq             NaN         NaN    245           5  \n",
       "mean       15.541327   75.979592    NaN         NaN  \n",
       "std         2.758864    3.683737    NaN         NaN  \n",
       "min         8.000000   70.000000    NaN         NaN  \n",
       "25%        13.775000   73.000000    NaN         NaN  \n",
       "50%        15.500000   76.000000    NaN         NaN  \n",
       "75%        17.025000   79.000000    NaN         NaN  \n",
       "max        24.800000   82.000000    NaN         NaN  "
      ]
     },
     "execution_count": 72,
     "metadata": {},
     "output_type": "execute_result"
    }
   ],
   "source": [
    "df.describe(include = \"all\")"
   ]
  },
  {
   "cell_type": "code",
   "execution_count": 78,
   "metadata": {
    "collapsed": false
   },
   "outputs": [
    {
     "data": {
      "text/plain": [
       "<matplotlib.axes._subplots.AxesSubplot at 0x11e430210>"
      ]
     },
     "execution_count": 78,
     "metadata": {},
     "output_type": "execute_result"
    },
    {
     "data": {
      "image/png": "[encoded data removed]",
      "text/plain": [
       "<matplotlib.figure.Figure at 0x11a9bbf90>"
      ]
     },
     "metadata": {},
     "output_type": "display_data"
    },
    {
     "data": {
      "image/png": "[encoded data removed]",
      "text/plain": [
       "<matplotlib.figure.Figure at 0x11e3f5b10>"
      ]
     },
     "metadata": {},
     "output_type": "display_data"
    }
   ],
   "source": [
    "fig, axs = plt.subplots(2, 3, sharey=True)\n",
    "df.plot(kind='scatter', x='cylinders', y='mpg', ax=axs[0,0], figsize=(16, 10))\n",
    "df.plot(kind='scatter', x='displacement', y='mpg', ax=axs[0,1])\n",
    "df.plot(kind='scatter', x='horsepower', y='mpg', ax=axs[0,2])\n",
    "df.plot(kind='scatter', x='weight', y='mpg', ax=axs[1,0])\n",
    "df.plot(kind='scatter', x='acceleration', y='mpg', ax=axs[1,1])\n",
    "df.plot(kind='scatter', x='model year', y='mpg', ax=axs[1,2])\n",
    "\n",
    "\n",
    "df.boxplot(column='mpg', by='origin')\n"
   ]
  },
  {
   "cell_type": "code",
   "execution_count": null,
   "metadata": {
    "collapsed": true
   },
   "outputs": [],
   "source": []
  },
  {
   "cell_type": "markdown",
   "metadata": {},
   "source": [
    "Before we begin to solve for $w$, it appears that the "
   ]
  },
  {
   "cell_type": "code",
   "execution_count": 213,
   "metadata": {
    "collapsed": false
   },
   "outputs": [],
   "source": [
    "#change model year to years since 1970 \n",
    "df[\"model year\"] = df[\"model year\"] - 70\n",
    "\n",
    "df[\"intercept\"] = 1\n",
    "\n",
    "#feature_cols = [\"intercept\",\"cylinders\",\"displacement\",\"horsepower\", \"weight\", \"acceleration\",\"model year\",\"origin\"]\n",
    "\n",
    "#For now let's only use the numeric features in our model\n",
    "\n",
    "feature_cols = [\"intercept\",\"cylinders\",\"displacement\",\"horsepower\", \"weight\",\"acceleration\",\"model year\"]\n",
    "\n",
    "#Split data into training and test sets\n",
    "msk = np.random.rand(len(df)) < 0.8\n",
    "\n",
    "X_train = df[feature_cols][msk].as_matrix()\n",
    "\n",
    "X_test = df[feature_cols][~msk].as_matrix()\n",
    "\n",
    "y_train = df[\"mpg\"][msk].as_matrix()\n",
    "\n",
    "y_test = df[\"mpg\"][~msk].as_matrix()"
   ]
  },
  {
   "cell_type": "code",
   "execution_count": 214,
   "metadata": {
    "collapsed": false
   },
   "outputs": [],
   "source": [
    "#Estimate feature vector as (XTX)^-1 XTy\n",
    "\n",
    "w = np.linalg.inv(X_train.T.dot(X_train)).dot(X_train.T.dot(y_train))"
   ]
  },
  {
   "cell_type": "code",
   "execution_count": 210,
   "metadata": {
    "collapsed": false
   },
   "outputs": [
    {
     "name": "stdout",
     "output_type": "stream",
     "text": [
      "Model Coefficients:\n",
      "\n",
      "intercept -\t980.970987713\n",
      "cylinders -\t-0.666205971246\n",
      "displacement -\t0.0172990555362\n",
      "horsepower -\t0.00636529698181\n",
      "weight -\t-0.00753513289644\n",
      "acceleration -\t0.128008074727\n",
      "model year -\t0.708043934269\n"
     ]
    }
   ],
   "source": [
    "\n",
    "print \"Model Coefficients:\\n\"\n",
    "for i in range(len(w)):\n",
    "    \n",
    "    print \"{0} -\\t{1}\".format(feature_cols[i],w[i])"
   ]
  },
  {
   "cell_type": "code",
   "execution_count": 216,
   "metadata": {
    "collapsed": false
   },
   "outputs": [
    {
     "data": {
      "text/plain": [
       "12.205472280170016"
      ]
     },
     "execution_count": 216,
     "metadata": {},
     "output_type": "execute_result"
    }
   ],
   "source": [
    "# Calculate mean squared error between our estimates and actual observed values\n",
    "np.square(X_train.dot(w) - y_train).sum() / len(y_train)"
   ]
  },
  {
   "cell_type": "code",
   "execution_count": 215,
   "metadata": {
    "collapsed": false
   },
   "outputs": [
    {
     "data": {
      "text/plain": [
       "8.9955502769174132"
      ]
     },
     "execution_count": 215,
     "metadata": {},
     "output_type": "execute_result"
    }
   ],
   "source": [
    "# Calculate mean squared error between our estimates and actual observed values\n",
    "np.square(X_test.dot(w) - y_test).sum() / len(y_test)"
   ]
  },
  {
   "cell_type": "markdown",
   "metadata": {},
   "source": [
    "We've achived a lower error on our test set than on our training set which could suggest that our data generalises well to unseen data but may also be down to random chance. "
   ]
  },
  {
   "cell_type": "code",
   "execution_count": null,
   "metadata": {
    "collapsed": true
   },
   "outputs": [],
   "source": []
  }
 ],
 "metadata": {
  "kernelspec": {
   "display_name": "Python 2",
   "language": "python",
   "name": "python2"
  },
  "language_info": {
   "codemirror_mode": {
    "name": "ipython",
    "version": 2
   },
   "file_extension": ".py",
   "mimetype": "text/x-python",
   "name": "python",
   "nbconvert_exporter": "python",
   "pygments_lexer": "ipython2",
   "version": "2.7.11"
  }
 },
 "nbformat": 4,
 "nbformat_minor": 0
}
