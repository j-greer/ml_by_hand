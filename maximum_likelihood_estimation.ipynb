{
 "cells": [
  {
   "cell_type": "markdown",
   "metadata": {},
   "source": [
    "# Maximum Likelihood Estimation"
   ]
  },
  {
   "cell_type": "markdown",
   "metadata": {},
   "source": [
    "Maximum Likelihood Estimation is a method of calculating the latent parameter/s of a model given a set of observations.\n",
    "\n",
    "It is so called as it attempts to find the parameter values that are most likely to have produced the observed data—maximises the likelihood function.\n",
    "\n",
    "The technique may be used in practice when it is infeasible to observe every member of a population and thus parameter estimates from a sample must be made."
   ]
  },
  {
   "cell_type": "markdown",
   "metadata": {},
   "source": [
    "## Formulation"
   ]
  },
  {
   "cell_type": "markdown",
   "metadata": {},
   "source": [
    "Given a set of n i.i.d observations $x_1, x_2,......x_n$ which share a common distribution $p(\\cdot|\\theta)$ where theta is a vector of parameters for this family. Our goal is to find an estimator $\\hat\\theta$ that best describes true value of $\\theta$.\n",
    "\n",
    "We may reformulate this problem by specifying the joint density of all the observations.\n",
    "\n",
    "This is given as $ p(x_1|\\theta) \\times p(x_2|\\theta) ... \\times p(x_n|\\theta) = p(x_1,x_2,...,x_n|\\theta)$ which in turn decomposes to  $\\prod_{i=1}^n p(x_i | \\theta)$\n",
    "\n",
    "We now need to find theta. Maximum likelihood seeks the find value of theta that maximizes the probability of our joint probability function $p(x_1,x_2,...,x_n|\\theta)$. The problem can in fact be rephrased as finding the value of $\\theta$ that most likely given the observed data, which can be expressed mathematically as $L = (\\theta | x_1,x_2,...,x_n)$.\n",
    "\n",
    "The likelihood function is maximised when $$\\nabla \\prod_{i=1}^n p(x_i | \\theta) = 0$$\n",
    "\n",
    "In practice the calculation of the equation above can be difficult and itit is often easier to work with the natural logarithm of the likelihood. We can use the fact that the natural log is monotonically increasing $\\mathbb R_+$ and that $$ ln(\\prod_{i=1}^n p(x_i | \\theta)) = \\sum_{i=1}^n ln(p(x_i | \\theta)) $$\n",
    "\n",
    "Consequently, changing the logarithm doesn't change the location of maxima or minima.\n",
    "\n",
    "More concretely, the method of maximum likelihood estimation finds the parameter vector $\\hat\\theta$ that maximises the log-likelihood of the data.\n",
    "\n",
    "If we're lucky then $\\hat\\theta$ may be found analytically but very often it must be done numerically."
   ]
  },
  {
   "cell_type": "markdown",
   "metadata": {},
   "source": [
    "# Code Example"
   ]
  },
  {
   "cell_type": "code",
   "execution_count": 101,
   "metadata": {
    "collapsed": true
   },
   "outputs": [],
   "source": [
    "%matplotlib inline\n",
    "import numpy as np\n",
    "import pandas as pd\n",
    "import matplotlib.pyplot as plt\n",
    "from scipy.optimize import minimize"
   ]
  },
  {
   "cell_type": "markdown",
   "metadata": {},
   "source": [
    "Let's use the technique to described above to find the parameter estimates for a distribution on some real data.\n",
    "\n",
    "The dataset we'll use will be the results from the English Premier League in the 2013-2014 season. We'll aim to fit a distribution to the total number of goals scored in per game."
   ]
  },
  {
   "cell_type": "code",
   "execution_count": 221,
   "metadata": {
    "collapsed": false
   },
   "outputs": [
    {
     "data": {
      "text/html": [
       "<div>\n",
       "<table border=\"1\" class=\"dataframe\">\n",
       "  <thead>\n",
       "    <tr style=\"text-align: right;\">\n",
       "      <th></th>\n",
       "      <th>HomeTeam</th>\n",
       "      <th>AwayTeam</th>\n",
       "      <th>FTHG</th>\n",
       "      <th>FTAG</th>\n",
       "      <th>Total</th>\n",
       "    </tr>\n",
       "  </thead>\n",
       "  <tbody>\n",
       "    <tr>\n",
       "      <th>0</th>\n",
       "      <td>Arsenal</td>\n",
       "      <td>Aston Villa</td>\n",
       "      <td>1</td>\n",
       "      <td>3</td>\n",
       "      <td>4</td>\n",
       "    </tr>\n",
       "    <tr>\n",
       "      <th>1</th>\n",
       "      <td>Liverpool</td>\n",
       "      <td>Stoke</td>\n",
       "      <td>1</td>\n",
       "      <td>0</td>\n",
       "      <td>1</td>\n",
       "    </tr>\n",
       "    <tr>\n",
       "      <th>2</th>\n",
       "      <td>Norwich</td>\n",
       "      <td>Everton</td>\n",
       "      <td>2</td>\n",
       "      <td>2</td>\n",
       "      <td>4</td>\n",
       "    </tr>\n",
       "    <tr>\n",
       "      <th>3</th>\n",
       "      <td>Sunderland</td>\n",
       "      <td>Fulham</td>\n",
       "      <td>0</td>\n",
       "      <td>1</td>\n",
       "      <td>1</td>\n",
       "    </tr>\n",
       "    <tr>\n",
       "      <th>4</th>\n",
       "      <td>Swansea</td>\n",
       "      <td>Man United</td>\n",
       "      <td>1</td>\n",
       "      <td>4</td>\n",
       "      <td>5</td>\n",
       "    </tr>\n",
       "  </tbody>\n",
       "</table>\n",
       "</div>"
      ],
      "text/plain": [
       "     HomeTeam     AwayTeam  FTHG  FTAG  Total\n",
       "0     Arsenal  Aston Villa     1     3      4\n",
       "1   Liverpool        Stoke     1     0      1\n",
       "2     Norwich      Everton     2     2      4\n",
       "3  Sunderland       Fulham     0     1      1\n",
       "4     Swansea   Man United     1     4      5"
      ]
     },
     "execution_count": 221,
     "metadata": {},
     "output_type": "execute_result"
    }
   ],
   "source": [
    "# Load Data and create column for total goals scored\n",
    "goal_data = pd.read_csv(\"13_14_Eng.csv\")[[\"HomeTeam\",\"AwayTeam\",\"FTHG\",\"FTAG\"]]\n",
    "goal_data[\"Total\"] = goal_data.FTHG + goal_data.FTAG\n",
    "goal_data.head()"
   ]
  },
  {
   "cell_type": "code",
   "execution_count": 222,
   "metadata": {
    "collapsed": false
   },
   "outputs": [
    {
     "data": {
      "text/plain": [
       "<matplotlib.text.Text at 0x119446110>"
      ]
     },
     "execution_count": 222,
     "metadata": {},
     "output_type": "execute_result"
    },
    {
     "data": {
      "image/png": "[encoded data removed]",
      "text/plain": [
       "<matplotlib.figure.Figure at 0x119454cd0>"
      ]
     },
     "metadata": {},
     "output_type": "display_data"
    }
   ],
   "source": [
    "goal_data[\"Total\"].hist()\n",
    "plt.title(\"Distribution of Goals\")\n",
    "plt.xlabel(\"Goals\")\n",
    "plt.ylabel(\"Count\")"
   ]
  },
  {
   "cell_type": "markdown",
   "metadata": {},
   "source": [
    "Given the nature of the data— non-negative, discrete and right skewed— a Poisson distribution seems like a reasonable assumpition for this data.\n",
    "\n",
    "If we were being more thorough we could test to see if the distributional assumptions of the Poission (e.g. Mean being equal to the Variance) are met. However for a first pass the Poisson assumption seems reasonable and whilst there exists a closed-form analytic solution for this problem let's proceed to solve it numerically.\n",
    "\n",
    "The probability of observing the value $x$ on a datapoint drawn from a Poisson distribution is given by $$ P(x| \\theta) = \\frac{e^{-\\theta}\\theta^x}{x!} $$"
   ]
  },
  {
   "cell_type": "markdown",
   "metadata": {},
   "source": [
    "The likelihood of $\\theta$ can then be given as $$ L(\\theta | x) = \\prod_{i=1}^n \\frac{e^{-\\theta}\\theta^{x_i}}{x_i!} = e^{-n\\theta} \\theta^{\\sum_{i=1}^n x_i} \\times \\frac{1}{\\prod_{i=1}^n x_i!}$$ and therefore the log-likelihood $l$ is given by $$ l(\\theta | x) = -n\\theta +  \\sum_{i=1}^n x_i log \\theta - \\sum_{i=1}^n log(x_i!) $$\n",
    "\n",
    "Let's define a python function that calculates the log-likelihood of a set of Poisson observations."
   ]
  },
  {
   "cell_type": "code",
   "execution_count": 226,
   "metadata": {
    "collapsed": false
   },
   "outputs": [],
   "source": [
    "#Function that allows us to apply a factorial numpys factorial function to a vector.\n",
    "def f(x):\n",
    "    return np.math.factorial(x)\n",
    "\n",
    "factorial = np.vectorize(f)\n",
    "\n",
    "#function representing the negative of the log-likehood of the poisson distribution.\n",
    "log_likelihood = lambda theta,x: len(x)*theta - np.sum(x)*np.log(theta) + np.sum(np.log(factorial(x)))"
   ]
  },
  {
   "cell_type": "markdown",
   "metadata": {},
   "source": [
    "We'll find the value of theta that minimises the negative of our objective function. This is equivalent to maximising the original positive log-likelihood.\n",
    "\n",
    "For the purpose of this analysis, we'll make use of the minimize function in scipy's optimize module and the BFGS (Broyden–Fletcher–Goldfarb–Shanno) algorithm. BFGS and other gradient based algorithms start with an arbitrary solution to a problem, then attempt to find a better solution by iteravtively changing the solution. If the change produces a better solution, an incremental change is made to the new solution."
   ]
  },
  {
   "cell_type": "code",
   "execution_count": 230,
   "metadata": {
    "collapsed": false
   },
   "outputs": [
    {
     "name": "stdout",
     "output_type": "stream",
     "text": [
      "The maximum likelihood estimate of theta given our data is: 2.76842080226\n"
     ]
    }
   ],
   "source": [
    "lik_model = minimize(log_likelihood, np.array([3]),(goal_data.Total.values), method='L-BFGS-B')\n",
    "\n",
    "theta = lik_model[\"x\"][0]\n",
    "\n",
    "print \"The maximum likelihood estimate of theta given our data is: {0}\".format(theta)"
   ]
  },
  {
   "cell_type": "code",
   "execution_count": 229,
   "metadata": {
    "collapsed": false
   },
   "outputs": [
    {
     "data": {
      "text/plain": [
       "[<matplotlib.lines.Line2D at 0x1198dc990>]"
      ]
     },
     "execution_count": 229,
     "metadata": {},
     "output_type": "execute_result"
    },
    {
     "data": {
      "image/png": "[encoded data removed]",
      "text/plain": [
       "<matplotlib.figure.Figure at 0x1195b1090>"
      ]
     },
     "metadata": {},
     "output_type": "display_data"
    }
   ],
   "source": [
    "goals = goal_data.Total\n",
    "goals.hist(normed=True, bins=10, grid=False)\n",
    "x = range(goals.max())\n",
    "plt.plot(x, poisson.pmf(x, theta[0]), 'm-')"
   ]
  },
  {
   "cell_type": "code",
   "execution_count": 192,
   "metadata": {
    "collapsed": false
   },
   "outputs": [],
   "source": [
    "x = goal_data.values\n",
    "def poisson_ll(theta,x):\n",
    "    ll = -len(x)*theta + np.sum(x)*np.log(theta) - np.sum(np.log(factorial(x)))\n",
    "    \n",
    "    return -ll\n",
    "\n",
    "result = minimize(poisson_ll, np.array([6]), (goal_data.Total.values),method='L-BFGS-B')\n",
    "\n",
    "#{n*lambda-sum(data$x)*log(lambda) + sum(log(factorial(data$y)))}"
   ]
  },
  {
   "cell_type": "code",
   "execution_count": 218,
   "metadata": {
    "collapsed": false
   },
   "outputs": [
    {
     "data": {
      "text/plain": [
       "array([ 0.])"
      ]
     },
     "execution_count": 218,
     "metadata": {},
     "output_type": "execute_result"
    }
   ],
   "source": [
    "x = np.linspace(0, goals.max(),1)\n",
    "x"
   ]
  },
  {
   "cell_type": "code",
   "execution_count": 175,
   "metadata": {
    "collapsed": false
   },
   "outputs": [],
   "source": [
    "from scipy.stats import poisson\n",
    "\n",
    "def poisson_ll(theta,x):\n",
    "    ll = 0\n",
    "    for i in x:\n",
    "        ll += poisson.logpmf(i, theta, loc=0)\n",
    "    return -ll\n",
    "\n",
    "#- np.sum(np.log(factorial(x)))\n",
    "\n",
    "result = minimize(poisson_ll, np.array([6]), (goal_data.Total.values),method='L-BFGS-B')\n",
    "\n",
    "#{n*lambda-sum(data$x)*log(lambda) + sum(log(factorial(data$y)))}"
   ]
  },
  {
   "cell_type": "code",
   "execution_count": 183,
   "metadata": {
    "collapsed": false
   },
   "outputs": [
    {
     "data": {
      "text/plain": [
       "(301, 110)"
      ]
     },
     "execution_count": 183,
     "metadata": {},
     "output_type": "execute_result"
    }
   ],
   "source": [
    "np.sum(goal_data.Total.values), len(goal_data.Total.values)"
   ]
  },
  {
   "cell_type": "code",
   "execution_count": 134,
   "metadata": {
    "collapsed": true
   },
   "outputs": [],
   "source": [
    "def lik(parameters):\n",
    "    m = parameters[0]\n",
    "    b = parameters[1]\n",
    "    sigma = parameters[2]\n",
    "    for i in np.arange(0, len(x)):\n",
    "        y_exp = m * x + b\n",
    "    L = (len(x)/2 * np.log(2 * np.pi) + len(x)/2 * np.log(sigma ** 2) + 1 /\n",
    "         (2 * sigma ** 2) * sum((y - y_exp) ** 2))\n",
    "    return L\n",
    "\n",
    "x = np.array([1,2,3,4,5])\n",
    "y = np.array([2,5,8,11,14])\n",
    "lik_model = minimize(lik, np.array([1,1,1]), method='L-BFGS-B')"
   ]
  },
  {
   "cell_type": "code",
   "execution_count": 135,
   "metadata": {
    "collapsed": false
   },
   "outputs": [
    {
     "data": {
      "text/plain": [
       "      fun: 48.29858152029535\n",
       " hess_inv: <3x3 LbfgsInvHessProduct with dtype=float64>\n",
       "      jac: array([ 46318657.58551825,   5119910.42927988, -32601605.19537649])\n",
       "  message: 'ABNORMAL_TERMINATION_IN_LNSRCH'\n",
       "     nfev: 1032\n",
       "      nit: 62\n",
       "   status: 2\n",
       "  success: False\n",
       "        x: array([  2.99999998e+00,  -9.99999955e-01,  -3.54147002e-08])"
      ]
     },
     "execution_count": 135,
     "metadata": {},
     "output_type": "execute_result"
    }
   ],
   "source": [
    "lik_model"
   ]
  },
  {
   "cell_type": "code",
   "execution_count": null,
   "metadata": {
    "collapsed": true
   },
   "outputs": [],
   "source": []
  }
 ],
 "metadata": {
  "kernelspec": {
   "display_name": "Python 2",
   "language": "python",
   "name": "python2"
  },
  "language_info": {
   "codemirror_mode": {
    "name": "ipython",
    "version": 2
   },
   "file_extension": ".py",
   "mimetype": "text/x-python",
   "name": "python",
   "nbconvert_exporter": "python",
   "pygments_lexer": "ipython2",
   "version": "2.7.11"
  }
 },
 "nbformat": 4,
 "nbformat_minor": 0
}
