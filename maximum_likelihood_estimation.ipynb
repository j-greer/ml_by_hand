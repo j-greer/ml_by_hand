{
 "cells": [
  {
   "cell_type": "markdown",
   "metadata": {},
   "source": [
    "# Maximum Likelihood Estimation"
   ]
  },
  {
   "cell_type": "markdown",
   "metadata": {},
   "source": [
    "Maximum Likelihood Estimation is a method of calculating the latent parameter/s of a model given a set of observations.\n",
    "\n",
    "It is so called as it attempts to find the parameter values that are most likely to have produced the observed data—maximises the likelihood function.\n",
    "\n",
    "The technique may be used in practice when it is infeasible to observe every member of a population and thus parameter estimates from a sample must be made."
   ]
  },
  {
   "cell_type": "markdown",
   "metadata": {},
   "source": [
    "## Formulation"
   ]
  },
  {
   "cell_type": "markdown",
   "metadata": {},
   "source": [
    "Given a set of n i.i.d observations $x_1, x_2,......x_n$ which share a common distribution $p(\\cdot|\\theta)$ where theta is a vector of parameters for this family. Our goal is to find an estimator $\\hat\\theta$ that best describes true value of $\\theta$.\n",
    "\n",
    "We may reformulate this problem by specifying the joint density of all the observations.\n",
    "\n",
    "This is given as $ p(x_1|\\theta) \\times p(x_2|\\theta) ... \\times p(x_n|\\theta) = p(x_1,x_2,...,x_n|\\theta)$ which in turn decomposes to  $\\prod_{i=1}^n p(x_i | \\theta)$\n",
    "\n",
    "We now need to find theta. Maximum likelihood seeks the find value of theta that maximizes the probability of our joint probability function $p(x_1,x_2,...,x_n|\\theta)$. The problem can in fact be rephrased as finding the value of $\\theta$ that most likely given the observed data, which can be expressed mathematically as $L = (\\theta | x_1,x_2,...,x_n)$.\n",
    "\n",
    "The likelihood function is maximised when $$\\nabla \\prod_{i=1}^n p(x_i | \\theta) = 0$$\n",
    "\n",
    "In practice the calculation of the equation above can be difficult and itit is often easier to work with the natural logarithm of the likelihood. We can use the fact that the natural log is monotonically increasing $\\mathbb R_+$ and that $$ ln(\\prod_{i=1}^n p(x_i | \\theta)) = \\sum_{i=1}^n ln(p(x_i | \\theta)) $$\n",
    "\n",
    "Consequently, changing the logarithm doesn't change the location of maxima or minima.\n",
    "\n",
    "More concretely, the method of maximum likelihood estimation finds the parameter vector $\\hat\\theta$ that maximises the log-likelihood of the data.\n",
    "\n",
    "If we're lucky then $\\hat\\theta$ may be found analytically but very often it must be done numerically."
   ]
  },
  {
   "cell_type": "markdown",
   "metadata": {},
   "source": [
    "# Code Example"
   ]
  },
  {
   "cell_type": "code",
   "execution_count": 101,
   "metadata": {
    "collapsed": true
   },
   "outputs": [],
   "source": [
    "%matplotlib inline\n",
    "import numpy as np\n",
    "import pandas as pd\n",
    "import matplotlib.pyplot as plt\n",
    "from scipy.optimize import minimize"
   ]
  },
  {
   "cell_type": "markdown",
   "metadata": {},
   "source": [
    "Let's use the technique to described above to find the parameter estimates for a distribution on some real data.\n",
    "\n",
    "The dataset we'll use will be the results from the English Premier League in the 2013-2014 season. We'll aim to fit a distribution to the total number of goals scored in per game."
   ]
  },
  {
   "cell_type": "code",
   "execution_count": 23,
   "metadata": {
    "collapsed": false
   },
   "outputs": [
    {
     "data": {
      "text/html": [
       "<div>\n",
       "<table border=\"1\" class=\"dataframe\">\n",
       "  <thead>\n",
       "    <tr style=\"text-align: right;\">\n",
       "      <th></th>\n",
       "      <th>HomeTeam</th>\n",
       "      <th>AwayTeam</th>\n",
       "      <th>FTHG</th>\n",
       "      <th>FTAG</th>\n",
       "      <th>Total</th>\n",
       "    </tr>\n",
       "  </thead>\n",
       "  <tbody>\n",
       "    <tr>\n",
       "      <th>0</th>\n",
       "      <td>Arsenal</td>\n",
       "      <td>Crystal Palace</td>\n",
       "      <td>2</td>\n",
       "      <td>1</td>\n",
       "      <td>3</td>\n",
       "    </tr>\n",
       "    <tr>\n",
       "      <th>1</th>\n",
       "      <td>Leicester</td>\n",
       "      <td>Everton</td>\n",
       "      <td>2</td>\n",
       "      <td>2</td>\n",
       "      <td>4</td>\n",
       "    </tr>\n",
       "    <tr>\n",
       "      <th>2</th>\n",
       "      <td>Man United</td>\n",
       "      <td>Swansea</td>\n",
       "      <td>1</td>\n",
       "      <td>2</td>\n",
       "      <td>3</td>\n",
       "    </tr>\n",
       "    <tr>\n",
       "      <th>3</th>\n",
       "      <td>QPR</td>\n",
       "      <td>Hull</td>\n",
       "      <td>0</td>\n",
       "      <td>1</td>\n",
       "      <td>1</td>\n",
       "    </tr>\n",
       "    <tr>\n",
       "      <th>4</th>\n",
       "      <td>Stoke</td>\n",
       "      <td>Aston Villa</td>\n",
       "      <td>0</td>\n",
       "      <td>1</td>\n",
       "      <td>1</td>\n",
       "    </tr>\n",
       "  </tbody>\n",
       "</table>\n",
       "</div>"
      ],
      "text/plain": [
       "     HomeTeam        AwayTeam  FTHG  FTAG  Total\n",
       "0     Arsenal  Crystal Palace     2     1      3\n",
       "1   Leicester         Everton     2     2      4\n",
       "2  Man United         Swansea     1     2      3\n",
       "3         QPR            Hull     0     1      1\n",
       "4       Stoke     Aston Villa     0     1      1"
      ]
     },
     "execution_count": 23,
     "metadata": {},
     "output_type": "execute_result"
    }
   ],
   "source": [
    "# Load Data and create column for total goals scored\n",
    "goal_data = pd.read_csv(\"2013-2014.csv\")[[\"HomeTeam\",\"AwayTeam\",\"FTHG\",\"FTAG\"]]\n",
    "goal_data[\"Total\"] = goal_data.FTHG + goal_data.FTAG\n",
    "goal_data.head()"
   ]
  },
  {
   "cell_type": "code",
   "execution_count": 32,
   "metadata": {
    "collapsed": false
   },
   "outputs": [
    {
     "data": {
      "text/plain": [
       "<matplotlib.text.Text at 0x114c55c50>"
      ]
     },
     "execution_count": 32,
     "metadata": {},
     "output_type": "execute_result"
    },
    {
     "data": {
      "image/png": "[encoded data removed]",
      "text/plain": [
       "<matplotlib.figure.Figure at 0x1156b4c10>"
      ]
     },
     "metadata": {},
     "output_type": "display_data"
    }
   ],
   "source": [
    "goal_data[\"Total\"].hist()\n",
    "plt.title(\"Distribution of Goals\")\n",
    "plt.xlabel(\"Goals\")\n",
    "plt.ylabel(\"Count\")"
   ]
  },
  {
   "cell_type": "markdown",
   "metadata": {},
   "source": [
    "Given the nature of the data— non-negative, discrete and right skewed— a Poisson distribution seems like a reasonable assumpition for this data.\n",
    "\n",
    "If we were being more thorough we could test to see if the distributional assumptions of the Poission (e.g. Mean being equal to the Variance) are met. However for a first pass the Poisson assumption seems reasonable and whilst there exists a closed-form analytic solution for this problem let's proceed to solve it numerically.\n",
    "\n",
    "The probability of observing the value $x$ on a datapoint drawn from a Poisson distribution is given by $$ P(x| \\theta) = \\frac{e^{-\\theta}\\theta^x}{x!} $$"
   ]
  },
  {
   "cell_type": "markdown",
   "metadata": {},
   "source": [
    "The likelihood of $\\theta$ can then be given as $$ L(\\theta | x) = \\prod_{i=1}^n \\frac{e^{-\\theta}\\theta^{x_i}}{x_i!} = e^{-n\\theta} \\theta^{\\sum_{i=1}^n x_i} \\times \\frac{1}{\\prod_{i=1}^n x_i!}$$ and therefore the log-likelihood $l$ is given by $$ l(\\theta | x) = -n\\theta +  \\sum_{i=1}^n x_i log \\theta - \\sum_{i=1}^n log(x_i!) $$"
   ]
  },
  {
   "cell_type": "code",
   "execution_count": 164,
   "metadata": {
    "collapsed": false
   },
   "outputs": [],
   "source": [
    "def f(x):\n",
    "    return np.math.factorial(x)\n",
    "\n",
    "factorial = np.vectorize(f)\n",
    "\n",
    "log_likelihood = lambda theta,x: -len(x)*theta + np.sum(x)*np.log(theta) - np.sum(np.log(factorial(x)))\n",
    "\n",
    "lik_model = minimize(log_likelihood, np.array([3]),(goal_data.Total.values), method='L-BFGS-B')\n",
    "#lik_model = minimize(poisson_ll, 3, method='L-BFGS-B')"
   ]
  },
  {
   "cell_type": "code",
   "execution_count": 165,
   "metadata": {
    "collapsed": false
   },
   "outputs": [
    {
     "data": {
      "text/plain": [
       "      fun: array([ -3.93705281e+10])\n",
       " hess_inv: <1x1 LbfgsInvHessProduct with dtype=float64>\n",
       "      jac: array([ 0.])\n",
       "  message: 'CONVERGENCE: NORM_OF_PROJECTED_GRADIENT_<=_PGTOL'\n",
       "     nfev: 32\n",
       "      nit: 1\n",
       "   status: 0\n",
       "  success: True\n",
       "        x: array([  3.57913944e+08])"
      ]
     },
     "execution_count": 165,
     "metadata": {},
     "output_type": "execute_result"
    }
   ],
   "source": [
    "lik_model"
   ]
  },
  {
   "cell_type": "code",
   "execution_count": 186,
   "metadata": {
    "collapsed": false
   },
   "outputs": [],
   "source": [
    "x = goal_data.values\n",
    "def poisson_ll(theta,x):\n",
    "    return len(x)*theta - np.sum(x)*np.log(theta)\n",
    "\n",
    "#- np.sum(np.log(factorial(x)))\n",
    "\n",
    "result = minimize(poisson_ll, np.array([6]), (goal_data.Total.values),method='L-BFGS-B')\n",
    "\n",
    "#{n*lambda-sum(data$x)*log(lambda) + sum(log(factorial(data$y)))}"
   ]
  },
  {
   "cell_type": "code",
   "execution_count": 187,
   "metadata": {
    "collapsed": false
   },
   "outputs": [
    {
     "data": {
      "text/plain": [
       "      fun: array([-1.99559959])\n",
       " hess_inv: <1x1 LbfgsInvHessProduct with dtype=float64>\n",
       "      jac: array([ 0.])\n",
       "  message: 'CONVERGENCE: NORM_OF_PROJECTED_GRADIENT_<=_PGTOL'\n",
       "     nfev: 22\n",
       "      nit: 7\n",
       "   status: 0\n",
       "  success: True\n",
       "        x: array([ 2.7363637])"
      ]
     },
     "execution_count": 187,
     "metadata": {},
     "output_type": "execute_result"
    }
   ],
   "source": [
    "result"
   ]
  },
  {
   "cell_type": "code",
   "execution_count": 175,
   "metadata": {
    "collapsed": false
   },
   "outputs": [],
   "source": [
    "from scipy.stats import poisson\n",
    "\n",
    "def poisson_ll(theta,x):\n",
    "    ll = 0\n",
    "    for i in x:\n",
    "        ll += poisson.logpmf(i, theta, loc=0)\n",
    "    return -ll\n",
    "\n",
    "#- np.sum(np.log(factorial(x)))\n",
    "\n",
    "result = minimize(poisson_ll, np.array([6]), (goal_data.Total.values),method='L-BFGS-B')\n",
    "\n",
    "#{n*lambda-sum(data$x)*log(lambda) + sum(log(factorial(data$y)))}"
   ]
  },
  {
   "cell_type": "code",
   "execution_count": 183,
   "metadata": {
    "collapsed": false
   },
   "outputs": [
    {
     "data": {
      "text/plain": [
       "(301, 110)"
      ]
     },
     "execution_count": 183,
     "metadata": {},
     "output_type": "execute_result"
    }
   ],
   "source": [
    "np.sum(goal_data.Total.values), len(goal_data.Total.values)"
   ]
  },
  {
   "cell_type": "code",
   "execution_count": 134,
   "metadata": {
    "collapsed": true
   },
   "outputs": [],
   "source": [
    "def lik(parameters):\n",
    "    m = parameters[0]\n",
    "    b = parameters[1]\n",
    "    sigma = parameters[2]\n",
    "    for i in np.arange(0, len(x)):\n",
    "        y_exp = m * x + b\n",
    "    L = (len(x)/2 * np.log(2 * np.pi) + len(x)/2 * np.log(sigma ** 2) + 1 /\n",
    "         (2 * sigma ** 2) * sum((y - y_exp) ** 2))\n",
    "    return L\n",
    "\n",
    "x = np.array([1,2,3,4,5])\n",
    "y = np.array([2,5,8,11,14])\n",
    "lik_model = minimize(lik, np.array([1,1,1]), method='L-BFGS-B')"
   ]
  },
  {
   "cell_type": "code",
   "execution_count": 135,
   "metadata": {
    "collapsed": false
   },
   "outputs": [
    {
     "data": {
      "text/plain": [
       "      fun: 48.29858152029535\n",
       " hess_inv: <3x3 LbfgsInvHessProduct with dtype=float64>\n",
       "      jac: array([ 46318657.58551825,   5119910.42927988, -32601605.19537649])\n",
       "  message: 'ABNORMAL_TERMINATION_IN_LNSRCH'\n",
       "     nfev: 1032\n",
       "      nit: 62\n",
       "   status: 2\n",
       "  success: False\n",
       "        x: array([  2.99999998e+00,  -9.99999955e-01,  -3.54147002e-08])"
      ]
     },
     "execution_count": 135,
     "metadata": {},
     "output_type": "execute_result"
    }
   ],
   "source": [
    "lik_model"
   ]
  },
  {
   "cell_type": "code",
   "execution_count": null,
   "metadata": {
    "collapsed": true
   },
   "outputs": [],
   "source": []
  }
 ],
 "metadata": {
  "kernelspec": {
   "display_name": "Python 2",
   "language": "python",
   "name": "python2"
  },
  "language_info": {
   "codemirror_mode": {
    "name": "ipython",
    "version": 2
   },
   "file_extension": ".py",
   "mimetype": "text/x-python",
   "name": "python",
   "nbconvert_exporter": "python",
   "pygments_lexer": "ipython2",
   "version": "2.7.11"
  }
 },
 "nbformat": 4,
 "nbformat_minor": 0
}
