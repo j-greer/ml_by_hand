{
 "cells": [
  {
   "cell_type": "markdown",
   "metadata": {},
   "source": [
    "#Sparse Regression"
   ]
  },
  {
   "cell_type": "markdown",
   "metadata": {},
   "source": [
    "Many of today's regression problems deal with high dimensional data and in some cases we have $n<<d$ - meaning that we have many more features than we do data points.\n",
    "\n",
    "With so many features, it is likey that only a subset of them actually have any predictive power.\n",
    "\n",
    "We need to find a \"feature selection\" method that allows us to \"switch off\" unimportant features and keep the predictive ones.In doing so we can build a model which performs well on unseen data.\n",
    "\n",
    "Linear and ridge regression perform poorly on sparse datasets for a number of resaons.\n",
    "\n",
    "* They treat all dimensions equally without favoring subsets of dimensions\n",
    "\n",
    "* The relevant dimensions are averaged with irrelevant ones\n",
    "\n",
    "Consequently, both models predict new data poorly and create models that are hard to interpret."
   ]
  },
  {
   "cell_type": "markdown",
   "metadata": {},
   "source": [
    "## Recall\n",
    "\n",
    "Penalized regression is of the form:\n",
    "\n",
    "$$w = argmin \\; \\Vert y - Xw \\Vert + \\lambda g(w)$$ where $lambda > 0 :$\n",
    "\n",
    "For ridge regression $g(w)$ is greater"
   ]
  },
  {
   "cell_type": "code",
   "execution_count": null,
   "metadata": {
    "collapsed": true
   },
   "outputs": [],
   "source": []
  },
  {
   "cell_type": "code",
   "execution_count": null,
   "metadata": {
    "collapsed": true
   },
   "outputs": [],
   "source": [
    "from scipy.optimize import minimize\n",
    "\n",
    "class LassoRegression():\n",
    "    \n",
    "\n",
    "    def fit(self, X, y, lam=1):\n",
    "        \n",
    "        p = X.shape[1]\n",
    "        \n",
    "        w0 = np.random.rand(p)\n",
    "        \n",
    "        func = lambda w,y,x,lam: ((y - x.dot(w))**2).sum() + lam*w.sum()\n",
    "        \n",
    "        self.w = minimize(func, w0, args=(y,X,lam))[\"x\"]\n",
    "    \n",
    "    def predict(self, X):\n",
    "        \n",
    "        return X.dot(self.w)"
   ]
  }
 ],
 "metadata": {
  "kernelspec": {
   "display_name": "Python 2",
   "language": "python",
   "name": "python2"
  },
  "language_info": {
   "codemirror_mode": {
    "name": "ipython",
    "version": 2
   },
   "file_extension": ".py",
   "mimetype": "text/x-python",
   "name": "python",
   "nbconvert_exporter": "python",
   "pygments_lexer": "ipython2",
   "version": "2.7.11"
  }
 },
 "nbformat": 4,
 "nbformat_minor": 0
}
