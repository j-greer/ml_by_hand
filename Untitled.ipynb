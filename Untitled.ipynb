{
 "cells": [
  {
   "cell_type": "markdown",
   "metadata": {},
   "source": [
    "# Maximum Likelihood Estimation"
   ]
  },
  {
   "cell_type": "markdown",
   "metadata": {},
   "source": [
    "Maximum Likelihood Estimation is a method of calculating the latent parameter/s of a model given a set of observations.\n",
    "\n",
    "It is so called as it attempts to find the parameter values that are most likely to have produced the observed data—maximises the likelihood function.\n",
    "\n",
    "The technique may be used in practice when it is infeasible to observe every member of a population and thus parameter estimates from a sample must be made."
   ]
  },
  {
   "cell_type": "markdown",
   "metadata": {},
   "source": [
    "## Formulation"
   ]
  },
  {
   "cell_type": "markdown",
   "metadata": {},
   "source": [
    "Given a set of n i.i.d observations $x_1, x_2,......x_n$ which share a common distribution $p(\\cdot|\\theta)$. Our goal is to find an estimator $\\hat\\theta$ that best describes true value of $\\theta$.\n",
    "\n",
    "We may reformulate this problem by specifying the joint density of all the observations"
   ]
  },
  {
   "cell_type": "markdown",
   "metadata": {},
   "source": []
  },
  {
   "cell_type": "code",
   "execution_count": null,
   "metadata": {
    "collapsed": true
   },
   "outputs": [],
   "source": []
  }
 ],
 "metadata": {
  "kernelspec": {
   "display_name": "Python 2",
   "language": "python",
   "name": "python2"
  },
  "language_info": {
   "codemirror_mode": {
    "name": "ipython",
    "version": 2
   },
   "file_extension": ".py",
   "mimetype": "text/x-python",
   "name": "python",
   "nbconvert_exporter": "python",
   "pygments_lexer": "ipython2",
   "version": "2.7.11"
  }
 },
 "nbformat": 4,
 "nbformat_minor": 0
}
